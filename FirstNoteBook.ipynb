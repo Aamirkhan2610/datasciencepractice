{
    "cells": [
        {
            "metadata": {},
            "cell_type": "markdown",
            "source": "# My Jupyter Notebook on IBM Watson Studio"
        },
        {
            "metadata": {},
            "cell_type": "markdown",
            "source": "**Pathan Aamirkhan I.**"
        },
        {
            "metadata": {},
            "cell_type": "markdown",
            "source": "Head of development Center (Overseas @Binery.co) And Sr. Software Engineer"
        },
        {
            "metadata": {},
            "cell_type": "markdown",
            "source": "I'm interested in datascience because i find it very exciting and interesting."
        },
        {
            "metadata": {},
            "cell_type": "markdown",
            "source": "# Below code execute sum of two variables"
        },
        {
            "metadata": {},
            "cell_type": "code",
            "source": "1+2",
            "execution_count": 3,
            "outputs": [
                {
                    "output_type": "execute_result",
                    "execution_count": 3,
                    "data": {
                        "text/plain": "3"
                    },
                    "metadata": {}
                }
            ]
        },
        {
            "metadata": {},
            "cell_type": "markdown",
            "source": "* First Point \n* Second Point\n* Third Point\n\n1. First Number\n2. Second Number\n3. Third Number\n\n![Google logo](http://www.google.com/images/logo.gif \"The Google logo\")\n\nOfficial site [Binery LTD.](http://coaxn.com/ \"Binery LTD.\") is here\n\n\n\n\n"
        }
    ],
    "metadata": {
        "kernelspec": {
            "name": "python3",
            "display_name": "Python 3.9",
            "language": "python"
        },
        "language_info": {
            "name": "python",
            "version": "3.9.12",
            "mimetype": "text/x-python",
            "codemirror_mode": {
                "name": "ipython",
                "version": 3
            },
            "pygments_lexer": "ipython3",
            "nbconvert_exporter": "python",
            "file_extension": ".py"
        }
    },
    "nbformat": 4,
    "nbformat_minor": 1
}